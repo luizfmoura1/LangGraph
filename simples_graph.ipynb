{
 "cells": [
  {
   "cell_type": "markdown",
   "metadata": {},
   "source": [
    "###\n",
    "Simple Graph (AI Agent)"
   ]
  },
  {
   "cell_type": "markdown",
   "metadata": {},
   "source": [
    "#\n",
    "Building Graph State"
   ]
  },
  {
   "cell_type": "code",
   "execution_count": null,
   "metadata": {},
   "outputs": [],
   "source": [
    "from typing_extensions import TypedDict\n",
    "\n",
    "class State(TypedDict):\n",
    "    graph_msg: str"
   ]
  },
  {
   "cell_type": "markdown",
   "metadata": {},
   "source": [
    "#\n",
    "Building Nodes Functions"
   ]
  },
  {
   "cell_type": "code",
   "execution_count": null,
   "metadata": {},
   "outputs": [],
   "source": [
    "def node_01 (state: State):\n",
    "    print(f\"Node: {state['graph_msg']}\")\n",
    "    return {\"graph_msg\": state[\"graph_msg\"] + \" node_01\"}\n",
    "\n",
    "def node_02 (state: State):\n",
    "    print(f\"Node: {state['graph_msg']}\")\n",
    "    return {\"graph_msg\": state[\"graph_msg\"] + \" node_02\"}\n",
    "\n",
    "def node_03 (state: State):\n",
    "    print(f\"Node: {state['graph_msg']}\")\n",
    "    return {\"graph_msg\": state[\"graph_msg\"] + \" node_03\"}\n"
   ]
  },
  {
   "cell_type": "markdown",
   "metadata": {},
   "source": [
    "#\n",
    "Building Graph Nodes\n"
   ]
  },
  {
   "cell_type": "code",
   "execution_count": null,
   "metadata": {},
   "outputs": [
    {
     "data": {
      "text/plain": [
       "Traceback (most recent call last):\n",
       "  File \"c:\\Users\\luizr\\.vscode\\extensions\\ms-python.python-2024.20.0-win32-x64\\python_files\\python_server.py\", line 130, in exec_user_input\n",
       "    retval = callable_(user_input, user_globals)\n",
       "             ^^^^^^^^^^^^^^^^^^^^^^^^^^^^^^^^^^^\n",
       "  File \"<string>\", line 1, in <module>\n",
       "ModuleNotFoundError: No module named 'ramdom'\n",
       "\n"
      ]
     },
     "metadata": {},
     "output_type": "display_data"
    }
   ],
   "source": [
    "import random\n",
    "from typing import Literal\n",
    "\n",
    "def select_next_node(state: State) -> Literal[\"node_02\", \"node_03\"]:\n",
    "    next_node = random.choice([\"node_02\", \"node_03\"])\n",
    "\n",
    "    print (f\"Selected node: {next_node}\")\n",
    "    return next_node"
   ]
  },
  {
   "cell_type": "code",
   "execution_count": null,
   "metadata": {},
   "outputs": [
    {
     "data": {
      "text/plain": [
       "Traceback (most recent call last):\n",
       "  File \"c:\\Users\\luizr\\.vscode\\extensions\\ms-python.python-2024.20.0-win32-x64\\python_files\\python_server.py\", line 130, in exec_user_input\n",
       "    retval = callable_(user_input, user_globals)\n",
       "             ^^^^^^^^^^^^^^^^^^^^^^^^^^^^^^^^^^^\n",
       "  File \"<string>\", line 14, in <module>\n",
       "NameError: name 'select_next_node' is not defined\n",
       "\n"
      ]
     },
     "metadata": {},
     "output_type": "display_data"
    }
   ],
   "source": [
    "from langgraph.graph import StateGraph, START, END\n",
    "\n",
    "# Create builder\n",
    "builder = StateGraph(State)\n",
    "\n",
    "# Graph nodes\n",
    "\n",
    "builder.add_node(\"node_01\", node_01)\n",
    "builder.add_node(\"node_02\", node_02)\n",
    "builder.add_node(\"node_03\", node_03)\n",
    "\n",
    "# Add edge\n",
    "builder.add_edge(START, \"node_01\")\n",
    "builder.add_conditional_edges(\"node_01\", select_next_node)\n",
    "builder.add_edge(\"node_02\", END)\n",
    "builder.add_edge(\"node_03\", END)\n",
    "\n",
    "graph = builder.compile()"
   ]
  },
  {
   "cell_type": "markdown",
   "metadata": {},
   "source": [
    "#\n",
    "Visualize Graph"
   ]
  },
  {
   "cell_type": "code",
   "execution_count": null,
   "metadata": {},
   "outputs": [],
   "source": [
    "from IPython.display import display, Image"
   ]
  },
  {
   "cell_type": "code",
   "execution_count": null,
   "metadata": {},
   "outputs": [
    {
     "data": {
      "text/plain": [
       "<IPython.core.display.Image object>\n"
      ]
     },
     "metadata": {},
     "output_type": "display_data"
    }
   ],
   "source": [
    "display(Image(graph.get_graph().draw_mermaid_png()))"
   ]
  },
  {
   "cell_type": "markdown",
   "metadata": {},
   "source": [
    "##\n",
    "Invoke Graph"
   ]
  },
  {
   "cell_type": "code",
   "execution_count": null,
   "metadata": {},
   "outputs": [
    {
     "data": {
      "text/plain": [
       "Node: Hello \n",
       "Selected node: node_03\n",
       "Node: Hello node_01\n"
      ]
     },
     "metadata": {},
     "output_type": "display_data"
    }
   ],
   "source": [
    "response = graph.invoke({\"graph_msg\": \"Hello \"})"
   ]
  },
  {
   "cell_type": "code",
   "execution_count": null,
   "metadata": {},
   "outputs": [
    {
     "data": {
      "text/plain": [
       "{'graph_msg': 'Hello node_01node_03'}\n"
      ]
     },
     "metadata": {},
     "output_type": "display_data"
    }
   ],
   "source": [
    "response"
   ]
  }
 ],
 "metadata": {
  "language_info": {
   "name": "python"
  }
 },
 "nbformat": 4,
 "nbformat_minor": 2
}
